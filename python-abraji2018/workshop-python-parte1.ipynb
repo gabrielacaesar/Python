{
 "cells": [
  {
   "cell_type": "markdown",
   "metadata": {},
   "source": [
    "## Workshop de Python na Abraji\n",
    "### 29 de junho de 2018\n",
    "#### Prof @turicas"
   ]
  },
  {
   "cell_type": "code",
   "execution_count": 1,
   "metadata": {},
   "outputs": [
    {
     "name": "stdout",
     "output_type": "stream",
     "text": [
      "hello, abraji\n"
     ]
    }
   ],
   "source": [
    "print(\"hello, abraji\")"
   ]
  },
  {
   "cell_type": "code",
   "execution_count": 2,
   "metadata": {},
   "outputs": [
    {
     "name": "stdout",
     "output_type": "stream",
     "text": [
      "12\n"
     ]
    }
   ],
   "source": [
    "print(\"1\" + \"2\")"
   ]
  },
  {
   "cell_type": "code",
   "execution_count": 3,
   "metadata": {},
   "outputs": [
    {
     "data": {
      "text/plain": [
       "3"
      ]
     },
     "execution_count": 3,
     "metadata": {},
     "output_type": "execute_result"
    }
   ],
   "source": [
    "1+2"
   ]
  },
  {
   "cell_type": "code",
   "execution_count": 5,
   "metadata": {},
   "outputs": [
    {
     "data": {
      "text/plain": [
       "'Fórmula 1'"
      ]
     },
     "execution_count": 5,
     "metadata": {},
     "output_type": "execute_result"
    }
   ],
   "source": [
    "\"Fórmula \" + \"1\""
   ]
  },
  {
   "cell_type": "code",
   "execution_count": 7,
   "metadata": {},
   "outputs": [
    {
     "name": "stdout",
     "output_type": "stream",
     "text": [
      "3 19 1\n"
     ]
    }
   ],
   "source": [
    "print(3,14 + 5,1)"
   ]
  },
  {
   "cell_type": "code",
   "execution_count": 8,
   "metadata": {},
   "outputs": [
    {
     "name": "stdout",
     "output_type": "stream",
     "text": [
      "8.24\n"
     ]
    }
   ],
   "source": [
    "print(3.14 + 5.1)"
   ]
  },
  {
   "cell_type": "code",
   "execution_count": 9,
   "metadata": {},
   "outputs": [
    {
     "name": "stdout",
     "output_type": "stream",
     "text": [
      "4\n"
     ]
    }
   ],
   "source": [
    "print(int(\"1\") + int(\"3\"))"
   ]
  },
  {
   "cell_type": "code",
   "execution_count": 10,
   "metadata": {},
   "outputs": [
    {
     "name": "stdout",
     "output_type": "stream",
     "text": [
      "3\n"
     ]
    }
   ],
   "source": [
    "print(int(3.14))"
   ]
  },
  {
   "cell_type": "code",
   "execution_count": 11,
   "metadata": {},
   "outputs": [
    {
     "name": "stdout",
     "output_type": "stream",
     "text": [
      "gabriela\n"
     ]
    }
   ],
   "source": [
    "nome = input()"
   ]
  },
  {
   "cell_type": "code",
   "execution_count": 13,
   "metadata": {},
   "outputs": [
    {
     "name": "stdout",
     "output_type": "stream",
     "text": [
      "olá, gabriela\n"
     ]
    }
   ],
   "source": [
    "print(\"olá, \" + nome)"
   ]
  },
  {
   "cell_type": "code",
   "execution_count": 21,
   "metadata": {},
   "outputs": [
    {
     "name": "stdout",
     "output_type": "stream",
     "text": [
      "dani\n",
      "Mulher\n"
     ]
    }
   ],
   "source": [
    "nome1 = input()\n",
    "if nome1.endswith(\"o\") or nome1.endswith(\"O\"):\n",
    "    print(\"Homem\")\n",
    "else:\n",
    "    print(\"Mulher\")"
   ]
  },
  {
   "cell_type": "code",
   "execution_count": 22,
   "metadata": {},
   "outputs": [
    {
     "name": "stdout",
     "output_type": "stream",
     "text": [
      "pedro\n",
      "Homem\n"
     ]
    }
   ],
   "source": [
    "nome2 = input()\n",
    "if nome2.endswith(\"o\") or nome2.endswith(\"O\"):\n",
    "    print(\"Homem\")\n",
    "else:\n",
    "    print(\"Mulher\")"
   ]
  },
  {
   "cell_type": "code",
   "execution_count": 23,
   "metadata": {},
   "outputs": [
    {
     "name": "stdout",
     "output_type": "stream",
     "text": [
      "EDSOn\n",
      "Mulher\n"
     ]
    }
   ],
   "source": [
    "nome3 = input()\n",
    "if nome3.endswith(\"o\") or nome3.endswith(\"O\") or nome3.endswith(\"son\") or nome3.endswith(\"SON\"):\n",
    "    print(\"Homem\")\n",
    "else:\n",
    "    print(\"Mulher\")"
   ]
  },
  {
   "cell_type": "code",
   "execution_count": 24,
   "metadata": {},
   "outputs": [
    {
     "name": "stdout",
     "output_type": "stream",
     "text": [
      "edson\n",
      "Homem\n"
     ]
    }
   ],
   "source": [
    "nome3 = input()\n",
    "if nome3.endswith(\"o\") or nome3.endswith(\"O\") or nome3.endswith(\"son\") or nome3.endswith(\"SON\"):\n",
    "    print(\"Homem\")\n",
    "else:\n",
    "    print(\"Mulher\")"
   ]
  },
  {
   "cell_type": "code",
   "execution_count": 26,
   "metadata": {},
   "outputs": [
    {
     "name": "stdout",
     "output_type": "stream",
     "text": [
      "ALVarO\n",
      "Homem\n"
     ]
    }
   ],
   "source": [
    "nome4 = input().lower()\n",
    "if nome4.endswith(\"o\") or nome4.endswith(\"son\") or nome4.endswith(\"som\"):\n",
    "    print(\"Homem\")\n",
    "else:\n",
    "    print(\"Mulher\")"
   ]
  },
  {
   "cell_type": "code",
   "execution_count": 30,
   "metadata": {},
   "outputs": [
    {
     "name": "stdout",
     "output_type": "stream",
     "text": [
      "raquel\n",
      "nao sei\n"
     ]
    }
   ],
   "source": [
    "nome5 = input() #entrada de dados\n",
    "nome6 = nome5.lower().strip() #limpeza de dados\n",
    "if nome6.endswith(\"o\") or nome6.endswith(\"son\") or nome6.endswith(\"som\"):\n",
    "    print(\"Homem\")\n",
    "elif nome6.endswith(\"a\"):\n",
    "    print(\"Mulher\")    \n",
    "else:\n",
    "    print(\"nao sei\")"
   ]
  },
  {
   "cell_type": "code",
   "execution_count": 33,
   "metadata": {},
   "outputs": [
    {
     "name": "stdout",
     "output_type": "stream",
     "text": [
      "conceição\n"
     ]
    }
   ],
   "source": [
    "var = input() #entrada de dados"
   ]
  },
  {
   "cell_type": "code",
   "execution_count": 34,
   "metadata": {},
   "outputs": [
    {
     "name": "stdout",
     "output_type": "stream",
     "text": [
      "Mulher\n"
     ]
    }
   ],
   "source": [
    "var = var.lower().strip() #limpeza de dados\n",
    "\n",
    "if var == \"conceição\" or var == \"consolação\":\n",
    "    print(\"Mulher\")\n",
    "elif var.endswith(\"o\") or var.endswith(\"son\") or var.endswith(\"som\"):\n",
    "    print(\"Homem\")\n",
    "elif var.endswith(\"a\"):\n",
    "    print(\"Mulher\")    \n",
    "else:\n",
    "    print(\"nao sei\")"
   ]
  },
  {
   "cell_type": "code",
   "execution_count": 35,
   "metadata": {},
   "outputs": [],
   "source": [
    "excecoes_femininas = [\"conceição\", \"assunção\", \"rosário\", \"rosario\", \"consolação\"]"
   ]
  },
  {
   "cell_type": "code",
   "execution_count": 38,
   "metadata": {},
   "outputs": [
    {
     "name": "stdout",
     "output_type": "stream",
     "text": [
      "Mulher\n"
     ]
    }
   ],
   "source": [
    "var = var.lower().strip() #limpeza de dados\n",
    "\n",
    "if var in excecoes_femininas:\n",
    "    print(\"Mulher\")\n",
    "elif var.endswith(\"o\") or var.endswith(\"son\") or var.endswith(\"som\"):\n",
    "    print(\"Homem\")\n",
    "elif var.endswith(\"a\"):\n",
    "    print(\"Mulher\")    \n",
    "else:\n",
    "    print(\"nao sei\")"
   ]
  },
  {
   "cell_type": "code",
   "execution_count": 39,
   "metadata": {},
   "outputs": [],
   "source": [
    "excecoes_masculinas = [\"luca\", \"lucca\"]"
   ]
  },
  {
   "cell_type": "code",
   "execution_count": 42,
   "metadata": {},
   "outputs": [
    {
     "name": "stdout",
     "output_type": "stream",
     "text": [
      "Homem\n"
     ]
    }
   ],
   "source": [
    "var = \"Luca\"\n",
    "var = var.lower().strip() #limpeza de dados\n",
    "\n",
    "if var in excecoes_femininas:\n",
    "    print(\"Mulher\")\n",
    "elif var.endswith(\"o\") or var.endswith(\"son\") or var.endswith(\"som\"):\n",
    "    print(\"Homem\")\n",
    "elif var in excecoes_masculinas:\n",
    "    print(\"Homem\")\n",
    "elif var.endswith(\"a\"):\n",
    "    print(\"Mulher\")    \n",
    "else:\n",
    "    print(\"nao sei\")"
   ]
  },
  {
   "cell_type": "code",
   "execution_count": 43,
   "metadata": {},
   "outputs": [],
   "source": [
    "## agora vamos criar uma função"
   ]
  },
  {
   "cell_type": "code",
   "execution_count": 55,
   "metadata": {},
   "outputs": [],
   "source": [
    "def genero(prenome):\n",
    "    var = prenome\n",
    "    var = var.lower().strip() #limpeza de dados\n",
    "    if var in excecoes_femininas:\n",
    "        return \"Mulher\"\n",
    "    elif var.endswith(\"o\") or var.endswith(\"son\") or var.endswith(\"som\"):\n",
    "        return \"Homem\"\n",
    "    elif var in excecoes_masculinas:\n",
    "        return \"Homem\"\n",
    "    elif var.endswith(\"a\"):\n",
    "        return \"Mulher\"\n",
    "    \n",
    "    else:\n",
    "        return \"nao sei\""
   ]
  },
  {
   "cell_type": "code",
   "execution_count": 56,
   "metadata": {},
   "outputs": [
    {
     "name": "stdout",
     "output_type": "stream",
     "text": [
      "Mulher\n",
      "Homem\n",
      "nao sei\n",
      "Homem\n",
      "Mulher\n"
     ]
    }
   ],
   "source": [
    "print(genero(\"conceição\"))\n",
    "print(genero(\"pedro\"))\n",
    "print(genero(\"manoel\"))\n",
    "print(genero(\"lucca\"))\n",
    "print(genero(\"adriana\"))"
   ]
  },
  {
   "cell_type": "code",
   "execution_count": 57,
   "metadata": {},
   "outputs": [],
   "source": [
    "########### FIM"
   ]
  },
  {
   "cell_type": "code",
   "execution_count": null,
   "metadata": {},
   "outputs": [],
   "source": []
  },
  {
   "cell_type": "code",
   "execution_count": null,
   "metadata": {},
   "outputs": [],
   "source": []
  }
 ],
 "metadata": {
  "kernelspec": {
   "display_name": "Python 3",
   "language": "python",
   "name": "python3"
  },
  "language_info": {
   "codemirror_mode": {
    "name": "ipython",
    "version": 3
   },
   "file_extension": ".py",
   "mimetype": "text/x-python",
   "name": "python",
   "nbconvert_exporter": "python",
   "pygments_lexer": "ipython3",
   "version": "3.6.5"
  }
 },
 "nbformat": 4,
 "nbformat_minor": 2
}
